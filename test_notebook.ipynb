{
 "cells": [
  {
   "cell_type": "code",
   "execution_count": 1,
   "metadata": {},
   "outputs": [
    {
     "name": "stdout",
     "output_type": "stream",
     "text": [
      "{\n",
      "  \"request\": {\n",
      "    \"date_end\": \"2019-02-15 23:59:59\", \n",
      "    \"date_begin\": \"2019-02-01 00:00:00\"\n",
      "  }, \n",
      "  \"response\": {\n",
      "    \"disposition\": {\n",
      "      \"illiad_block_user_emailed\": 26, \n",
      "      \"borrowdirect\": 889, \n",
      "      \"illiad\": 745\n",
      "    }, \n",
      "    \"disposition_total\": 1660\n",
      "  }\n",
      "}\n"
     ]
    }
   ],
   "source": [
    "import requests\n",
    "\n",
    "url = 'https://library.brown.edu/easyborrow/stats_api/v2/?start_date=2019-02-01&end_date=2019-02-15'\n",
    "\n",
    "r = requests.get( url )\n",
    "\n",
    "print( r.content.decode('utf-8') )\n"
   ]
  },
  {
   "cell_type": "code",
   "execution_count": null,
   "metadata": {},
   "outputs": [],
   "source": []
  }
 ],
 "metadata": {
  "kernelspec": {
   "display_name": "Python 3",
   "language": "python",
   "name": "python3"
  },
  "language_info": {
   "codemirror_mode": {
    "name": "ipython",
    "version": 3
   },
   "file_extension": ".py",
   "mimetype": "text/x-python",
   "name": "python",
   "nbconvert_exporter": "python",
   "pygments_lexer": "ipython3",
   "version": "3.6.5"
  }
 },
 "nbformat": 4,
 "nbformat_minor": 2
}
